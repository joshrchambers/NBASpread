{
 "cells": [
  {
   "cell_type": "markdown",
   "metadata": {},
   "source": [
    "# Libraries and Parse Data\n",
    "Note: All computations were ran with last game weight hyperparameter `[0.4, 0.3, 0.2, 0.1]`"
   ]
  },
  {
   "cell_type": "code",
   "execution_count": 22,
   "metadata": {},
   "outputs": [],
   "source": [
    "import pandas as pd\n",
    "import numpy as np\n",
    "from sklearn.neighbors import KNeighborsClassifier, KNeighborsRegressor\n",
    "from sklearn.metrics import mean_absolute_error\n",
    "from sklearn.model_selection import train_test_split, GridSearchCV\n",
    "import matplotlib.pyplot as plt\n",
    "import tabulate\n",
    "\n",
    "UNNORMALIZE_FACTOR = 131  # MAX(HomeSpreadActual) - MIN(HomeSpreadActual)\n",
    "UNNORMALIZE_FACTOR_PREDICT = 41\n",
    "AVG_SIMULATE = 10\n",
    "\n",
    "# REGRESSION\n",
    "# Return X = testable features, Y = point spread\n",
    "def spread_df_rgn(normalize=False, get_custom_date_range=False, substituted_spreads=None):\n",
    "  data_df = pd.read_csv('combined_out.csv')\n",
    "\n",
    "  real_cols = data_df.select_dtypes(include=['number']).columns\n",
    "\n",
    "  if not get_custom_date_range:\n",
    "    data_df = data_df.dropna(axis=0)\n",
    "\n",
    "  if normalize:\n",
    "    for col in real_cols:\n",
    "      min_val = data_df[col].min()\n",
    "      max_val = data_df[col].max()\n",
    "      data_df[col] = (data_df[col] - min_val) / (max_val - min_val)\n",
    "\n",
    "  if get_custom_date_range:\n",
    "    data_df = data_df[(data_df['Date'] >= '2024-04-01') & (data_df['Date'] <= '2024-04-07')]\n",
    "    data_df['HomeSpread'] = substituted_spreads\n",
    "    data_df['HomeSpreadCorrectDirection'] = data_df['HomeSpreadActual'] > data_df['HomeSpread']\n",
    "    data_df['HomeSpreadCorrectDirection'] = data_df['HomeSpreadCorrectDirection'].astype(int)\n",
    "  \n",
    "  data_df = data_df.drop('AwayTeam', axis=1)\\\n",
    "                   .drop('HomeTeam', axis=1)\\\n",
    "                   .drop('Date', axis=1)\n",
    "  \n",
    "  data_np = data_df.to_numpy()\n",
    "  data_np = data_np[:, 5:]\n",
    "\n",
    "  data_np = data_np.astype(float)\n",
    "\n",
    "  return data_np[:, 1:-1], data_np[:, :1]\n",
    "\n",
    "# CLASSIFICATION\n",
    "# Return X = testable features, Y = correct point spread direction\n",
    "def spread_df_cls(normalize=False, get_custom_date_range=False, substituted_spreads=None):\n",
    "  data_df = pd.read_csv('combined_out.csv')\n",
    "\n",
    "  real_cols = data_df.select_dtypes(include=['number']).columns\n",
    "\n",
    "  if not get_custom_date_range:\n",
    "    data_df = data_df.dropna(axis=0)\n",
    "\n",
    "  if normalize:\n",
    "    for col in real_cols:\n",
    "      min_val = data_df[col].min()\n",
    "      max_val = data_df[col].max()\n",
    "      data_df[col] = (data_df[col] - min_val) / (max_val - min_val)\n",
    "\n",
    "  if get_custom_date_range:\n",
    "    data_df = data_df[(data_df['Date'] >= '2024-04-01') & (data_df['Date'] <= '2024-04-07')]\n",
    "    data_df['HomeSpread'] = substituted_spreads\n",
    "    data_df['HomeSpreadCorrectDirection'] = data_df['HomeSpreadActual'] > data_df['HomeSpread']\n",
    "    data_df['HomeSpreadCorrectDirection'] = data_df['HomeSpreadCorrectDirection'].astype(int)\n",
    "\n",
    "  data_df = data_df.drop('AwayTeam', axis=1)\\\n",
    "                   .drop('HomeTeam', axis=1)\\\n",
    "                   .drop('Date', axis=1)\n",
    "  \n",
    "  data_np = data_df.to_numpy()\n",
    "  data_np = data_np[:, 5:]\n",
    "\n",
    "  data_np = data_np.astype(float)\n",
    "\n",
    "  return data_np[:, 1:-1], data_np[:, -1:]"
   ]
  },
  {
   "cell_type": "markdown",
   "metadata": {},
   "source": [
    "# K-Neighbors Regressor\n",
    "We are trying to calculate the true point differential of an NBA game."
   ]
  },
  {
   "cell_type": "markdown",
   "metadata": {},
   "source": [
    "## No Normalization and No Weighting"
   ]
  },
  {
   "cell_type": "code",
   "execution_count": 5,
   "metadata": {},
   "outputs": [],
   "source": [
    "X, y = spread_df_rgn()\n",
    "X_train, X_test, y_train, y_test = train_test_split(X, y, train_size=0.8, test_size=0.2)\n",
    "\n",
    "i_idx = list(range(2, 11))\n",
    "mae_list_a = [None, None]  # don't plot k=0,1\n",
    "\n",
    "for i in range(2, 11):\n",
    "  knn = KNeighborsRegressor(n_neighbors=i).fit(X_train, y_train)\n",
    "  acc_train = knn.score(X_train, y_train)\n",
    "  acc_test = knn.score(X_test, y_test)\n",
    "\n",
    "  mae_train = mean_absolute_error(knn.predict(X_train), y_train)\n",
    "  mae_test = mean_absolute_error(knn.predict(X_test), y_test)\n",
    "\n",
    "  mae_list_a.append(mae_test)"
   ]
  },
  {
   "cell_type": "markdown",
   "metadata": {},
   "source": [
    "# No Normalization and Weighting"
   ]
  },
  {
   "cell_type": "code",
   "execution_count": 2,
   "metadata": {},
   "outputs": [],
   "source": [
    "X, y = spread_df_rgn()\n",
    "X_train, X_test, y_train, y_test = train_test_split(X, y, train_size=0.8, test_size=0.2)\n",
    "\n",
    "i_idx = list(range(2, 11))\n",
    "mae_list_d = [None, None]  # don't plot k=0,1\n",
    "\n",
    "for i in range(2, 11):\n",
    "  knn = KNeighborsRegressor(n_neighbors=i).fit(X_train, y_train)\n",
    "  acc_train = knn.score(X_train, y_train)\n",
    "  acc_test = knn.score(X_test, y_test)\n",
    "\n",
    "  mae_train = mean_absolute_error(knn.predict(X_train), y_train)\n",
    "  mae_test = mean_absolute_error(knn.predict(X_test), y_test)\n",
    "\n",
    "  mae_list_d.append(mae_test)"
   ]
  },
  {
   "cell_type": "markdown",
   "metadata": {},
   "source": [
    "## Normalization without Weighting"
   ]
  },
  {
   "cell_type": "code",
   "execution_count": 3,
   "metadata": {},
   "outputs": [],
   "source": [
    "X, y = spread_df_rgn(normalize=True)\n",
    "X_train, X_test, y_train, y_test = train_test_split(X, y, train_size=0.8, test_size=0.2)\n",
    "\n",
    "i_idx = list(range(2, 11))\n",
    "mae_list_b = [None, None]  # don't plot k=0,1\n",
    "\n",
    "for i in range(2, 11):\n",
    "  knn = KNeighborsRegressor(n_neighbors=i, weights='distance').fit(X_train, y_train)\n",
    "  acc_train = knn.score(X_train, y_train)\n",
    "  acc_test = knn.score(X_test, y_test)\n",
    "\n",
    "  mae_train = mean_absolute_error(knn.predict(X_train), y_train)\n",
    "  mae_test = mean_absolute_error(knn.predict(X_test), y_test)\n",
    "\n",
    "  mae_list_b.append(mae_test * UNNORMALIZE_FACTOR)"
   ]
  },
  {
   "cell_type": "markdown",
   "metadata": {},
   "source": [
    "## Normalization and Weighting"
   ]
  },
  {
   "cell_type": "code",
   "execution_count": 23,
   "metadata": {},
   "outputs": [],
   "source": [
    "X, y = spread_df_rgn(normalize=True)\n",
    "X_train, X_test, y_train, y_test = train_test_split(X, y, train_size=0.8, test_size=0.2)\n",
    "\n",
    "i_idx = list(range(2, 11))\n",
    "mae_list_c = [None, None]  # don't plot k=0,1\n",
    "\n",
    "for i in range(2, 11):\n",
    "  knn = KNeighborsRegressor(n_neighbors=i, weights='distance').fit(X_train, y_train)\n",
    "  acc_train = knn.score(X_train, y_train)\n",
    "  acc_test = knn.score(X_test, y_test)\n",
    "\n",
    "  mae_train = mean_absolute_error(knn.predict(X_train), y_train)\n",
    "  mae_test = mean_absolute_error(knn.predict(X_test), y_test)\n",
    "\n",
    "  mae_list_c.append(mae_test * UNNORMALIZE_FACTOR)"
   ]
  },
  {
   "cell_type": "code",
   "execution_count": 6,
   "metadata": {},
   "outputs": [
    {
     "name": "stdout",
     "output_type": "stream",
     "text": [
      "  k    No Norm/No Weight    No Norm/Weight    Norm/No Weight    Norm/Weight\n",
      "---  -------------------  ----------------  ----------------  -------------\n",
      "  2             11.7217           11.6909            11.8235        11.9414\n",
      "  3             10.9068           10.9507            11.2023        11.1761\n",
      "  4             10.5522           10.6733            10.8883        10.753\n",
      "  5             10.3548           10.3722            10.6396        10.5252\n",
      "  6             10.1513           10.2203            10.4885        10.4236\n",
      "  7             10.0484           10.1207            10.3915        10.3031\n",
      "  8              9.89787          10.0353            10.2966        10.2173\n",
      "  9              9.79789          10.0015            10.2334        10.1374\n",
      " 10              9.73632           9.93236           10.1923        10.1042\n"
     ]
    },
    {
     "data": {
      "text/plain": [
       "<matplotlib.legend.Legend at 0x13fe839d0>"
      ]
     },
     "execution_count": 6,
     "metadata": {},
     "output_type": "execute_result"
    },
    {
     "data": {
      "image/png": "[encoded data removed]",
      "text/plain": [
       "<Figure size 640x480 with 1 Axes>"
      ]
     },
     "metadata": {},
     "output_type": "display_data"
    }
   ],
   "source": [
    "print(tabulate.tabulate([(x, y, z, a, b) for x, y, z, a, b in zip(i_idx, mae_list_a[2:], mae_list_d[2:], mae_list_b[2:], mae_list_c[2:])], headers=['k', 'No Norm/No Weight', 'No Norm/Weight', 'Norm/No Weight', 'Norm/Weight']))\n",
    "\n",
    "plt.plot(mae_list_a)\n",
    "plt.plot(mae_list_d)\n",
    "plt.plot(mae_list_b)\n",
    "plt.plot(mae_list_c)\n",
    "plt.xlabel('k')\n",
    "plt.ylabel('Mean Absolute Error')\n",
    "\n",
    "plt.legend(['No Norm/No Weight', 'No Norm/Weight', 'Norm/No Weight', 'Norm/Weight'])"
   ]
  },
  {
   "cell_type": "markdown",
   "metadata": {},
   "source": [
    "As k increases, MAE decreases, and in the best models can plateau a little under 10 (after adjusting for normalization). This means that the correct point differential is missed by about 10 points on average (showing that there is a lot of variability in NBA games that are difficult to explain statistically.)"
   ]
  },
  {
   "cell_type": "markdown",
   "metadata": {},
   "source": [
    "# K-Neighbors Classifier\n",
    "We are trying to estimate the point differential and compare it against the spread."
   ]
  },
  {
   "cell_type": "markdown",
   "metadata": {},
   "source": [
    "## Without Normalization"
   ]
  },
  {
   "cell_type": "code",
   "execution_count": 7,
   "metadata": {},
   "outputs": [],
   "source": [
    "X, y = spread_df_cls()\n",
    "X_train, X_test, y_train, y_test = train_test_split(X, y, train_size=0.8, test_size=0.2)\n",
    "\n",
    "i_idx = list(range(2, 11))\n",
    "acc_train_list_a = [None, None]  # don't plot k=0,1\n",
    "acc_test_list_a = [None, None]   # don't plot k=0,1\n",
    "\n",
    "for i in range(2, 11):\n",
    "  train_curr = 0\n",
    "  test_curr = 0\n",
    "\n",
    "  for j in range(AVG_SIMULATE):\n",
    "    knn = KNeighborsClassifier(n_neighbors=i).fit(X_train, np.ravel(y_train))\n",
    "    acc_train = knn.score(X_train, y_train)\n",
    "    acc_test = knn.score(X_test, y_test)\n",
    "\n",
    "    train_curr += acc_train\n",
    "    test_curr += acc_test\n",
    "\n",
    "  acc_train_list_a.append(train_curr/AVG_SIMULATE)\n",
    "  acc_test_list_a.append(test_curr/AVG_SIMULATE)"
   ]
  },
  {
   "cell_type": "markdown",
   "metadata": {},
   "source": [
    "## With Normalization"
   ]
  },
  {
   "cell_type": "code",
   "execution_count": 24,
   "metadata": {},
   "outputs": [],
   "source": [
    "X, y = spread_df_cls(normalize=True)\n",
    "X_train, X_test, y_train, y_test = train_test_split(X, y, train_size=0.8, test_size=0.2)\n",
    "\n",
    "i_idx = list(range(2, 11))\n",
    "acc_train_list_b = [None, None]  # don't plot k=0,1\n",
    "acc_test_list_b = [None, None]   # don't plot k=0,1\n",
    "\n",
    "for i in range(2, 11):\n",
    "  train_curr = 0\n",
    "  test_curr = 0\n",
    "\n",
    "  for j in range(AVG_SIMULATE):\n",
    "    knn = KNeighborsClassifier(n_neighbors=i).fit(X_train, np.ravel(y_train))\n",
    "    acc_train = knn.score(X_train, y_train)\n",
    "    acc_test = knn.score(X_test, y_test)\n",
    "\n",
    "    train_curr += acc_train\n",
    "    test_curr += acc_test\n",
    "\n",
    "  acc_train_list_b.append(acc_train)\n",
    "  acc_test_list_b.append(acc_test)"
   ]
  },
  {
   "cell_type": "code",
   "execution_count": 25,
   "metadata": {},
   "outputs": [
    {
     "name": "stdout",
     "output_type": "stream",
     "text": [
      "  k    Non-normalized Test    Non-normalized Train    Normalized Test    Normalized Train\n",
      "---  ---------------------  ----------------------  -----------------  ------------------\n",
      "  2               0.514134                0.751278           0.495457            0.744904\n",
      "  3               0.509086                0.747933           0.499495            0.749637\n",
      "  4               0.516406                0.685327           0.500252            0.688608\n",
      "  5               0.510348                0.68236            0.501767            0.688735\n",
      "  6               0.514891                0.65295            0.5                 0.65314\n",
      "  7               0.51161                 0.654402           0.501767            0.659325\n",
      "  8               0.512115                0.632124           0.49899             0.636352\n",
      "  9               0.515901                0.63591            0.495709            0.638877\n",
      " 10               0.516153                0.623793           0.499748            0.624235\n"
     ]
    },
    {
     "data": {
      "text/plain": [
       "<matplotlib.legend.Legend at 0x1590d46d0>"
      ]
     },
     "execution_count": 25,
     "metadata": {},
     "output_type": "execute_result"
    },
    {
     "data": {
      "image/png": "[encoded data removed]",
      "text/plain": [
       "<Figure size 640x480 with 1 Axes>"
      ]
     },
     "metadata": {},
     "output_type": "display_data"
    }
   ],
   "source": [
    "print(tabulate.tabulate([(x, y, z, a, b) for x, y, z, a, b in zip(i_idx, acc_test_list_a[2:], acc_train_list_a[2:], acc_test_list_b[2:], acc_train_list_b[2:])], headers=\n",
    "                          ['k', 'Non-normalized Test', 'Non-normalized Train', 'Normalized Test', 'Normalized Train']\n",
    "                        ))\n",
    "\n",
    "plt.plot(acc_test_list_a)\n",
    "plt.plot(acc_train_list_a)\n",
    "plt.plot(acc_test_list_b)\n",
    "plt.plot(acc_train_list_b)\n",
    "plt.xlabel('k')\n",
    "plt.ylabel('Predictive Accuracy')\n",
    "\n",
    "plt.legend(['Non-normalized Test', 'Non-normalized Train', 'Normalized Test', 'Normalized Train'])"
   ]
  },
  {
   "cell_type": "markdown",
   "metadata": {},
   "source": [
    "# Testing Novel Data\n",
    "Testing all NBA games between April 1 and April 7, 2024."
   ]
  },
  {
   "cell_type": "code",
   "execution_count": 12,
   "metadata": {},
   "outputs": [
    {
     "name": "stdout",
     "output_type": "stream",
     "text": [
      "Overall acc with k=8: 0.48275862068965514\n"
     ]
    }
   ],
   "source": [
    "new_point_spreads = [\n",
    "  -18.5,\n",
    "  -2.5,\n",
    "  -12.5,\n",
    "  -17.5,\n",
    "  -1.5,\n",
    "  -0.5,\n",
    "  -15.5,\n",
    "  -2.5,\n",
    "  -7.5,\n",
    "  9.5,\n",
    "  -2.5,\n",
    "  -2.5,\n",
    "  -0.5,\n",
    "  12.5,\n",
    "  13.5,\n",
    "  -4.5,\n",
    "  -17.5,\n",
    "  -12.5,\n",
    "  -6.5,\n",
    "  -12.5,\n",
    "  -12.5,\n",
    "  12.5,\n",
    "  -1.5,\n",
    "  6.5,\n",
    "  -2.5,\n",
    "  -3.5,\n",
    "  3.5,\n",
    "  3.5,\n",
    "  -11.5,\n",
    "  -14.5,\n",
    "  -12.5,\n",
    "  -4.5,\n",
    "  1.5,\n",
    "  -11.5,\n",
    "  1.5,\n",
    "  3.5,\n",
    "  12.5,\n",
    "  1.5,\n",
    "  -2.5,\n",
    "  -9.5,\n",
    "  -6.5,\n",
    "  -4.5,\n",
    "  -10.5,\n",
    "  15.5,\n",
    "  -10.5,\n",
    "  2.5,\n",
    "  -12.5,\n",
    "  10.5,\n",
    "  3.5,\n",
    "  -4.5,\n",
    "  7.5,\n",
    "  -4.5,\n",
    "  -6.5,\n",
    "  -16.5,\n",
    "  -4.5,\n",
    "  -9.5,\n",
    "  -5.5,\n",
    "  -2.5\n",
    "]\n",
    "\n",
    "accs = 0\n",
    "\n",
    "for i in range(AVG_SIMULATE):\n",
    "  X, y = spread_df_cls(normalize=False)\n",
    "  X_train, X_test, y_train, y_test = train_test_split(X, y, train_size=0.8, test_size=0.2)\n",
    "  knn = KNeighborsClassifier(n_neighbors=8).fit(X_train, np.ravel(y_train))\n",
    "\n",
    "  X2, y2 = spread_df_cls(normalize=False, get_custom_date_range=True, substituted_spreads=new_point_spreads)\n",
    "  acc = knn.score(X2, y2)\n",
    "  accs += acc\n",
    "\n",
    "print(f\"Overall acc with k=8: {accs/AVG_SIMULATE}\")"
   ]
  },
  {
   "cell_type": "markdown",
   "metadata": {},
   "source": [
    "For a selection of recent games, the model was able to get on average 47% accurate. Interestingly enough, the non-weighted model performed better than the weighted model, with weighted being able to get as high as 52% accuracy. Weighted model struggled and got 49%."
   ]
  },
  {
   "cell_type": "markdown",
   "metadata": {},
   "source": [
    "# Grid Search"
   ]
  },
  {
   "cell_type": "code",
   "execution_count": 14,
   "metadata": {},
   "outputs": [
    {
     "name": "stdout",
     "output_type": "stream",
     "text": [
      "Fitting 5 folds for each of 32 candidates, totalling 160 fits\n",
      "[CV] END ...............algorithm=auto, p=1, weights=uniform; total time=   0.2s\n",
      "[CV] END ...............algorithm=auto, p=1, weights=uniform; total time=   0.2s\n",
      "[CV] END ...............algorithm=auto, p=1, weights=uniform; total time=   0.2s\n",
      "[CV] END ...............algorithm=auto, p=1, weights=uniform; total time=   0.2s\n",
      "[CV] END ...............algorithm=auto, p=1, weights=uniform; total time=   0.3s\n",
      "[CV] END ..............algorithm=auto, p=1, weights=distance; total time=   0.2s\n",
      "[CV] END ..............algorithm=auto, p=1, weights=distance; total time=   0.2s\n",
      "[CV] END ..............algorithm=auto, p=1, weights=distance; total time=   0.2s\n",
      "[CV] END ..............algorithm=auto, p=1, weights=distance; total time=   0.3s\n",
      "[CV] END ..............algorithm=auto, p=1, weights=distance; total time=   0.2s\n",
      "[CV] END ...............algorithm=auto, p=2, weights=uniform; total time=   0.1s\n",
      "[CV] END ...............algorithm=auto, p=2, weights=uniform; total time=   0.1s\n",
      "[CV] END ...............algorithm=auto, p=2, weights=uniform; total time=   0.1s\n",
      "[CV] END ...............algorithm=auto, p=2, weights=uniform; total time=   0.1s\n",
      "[CV] END ...............algorithm=auto, p=2, weights=uniform; total time=   0.1s\n",
      "[CV] END ..............algorithm=auto, p=2, weights=distance; total time=   0.1s\n",
      "[CV] END ..............algorithm=auto, p=2, weights=distance; total time=   0.1s\n",
      "[CV] END ..............algorithm=auto, p=2, weights=distance; total time=   0.1s\n",
      "[CV] END ..............algorithm=auto, p=2, weights=distance; total time=   0.1s\n",
      "[CV] END ..............algorithm=auto, p=2, weights=distance; total time=   0.1s\n",
      "[CV] END ...............algorithm=auto, p=3, weights=uniform; total time=   3.6s\n",
      "[CV] END ...............algorithm=auto, p=3, weights=uniform; total time=   3.6s\n",
      "[CV] END ...............algorithm=auto, p=3, weights=uniform; total time=   4.4s\n",
      "[CV] END ...............algorithm=auto, p=3, weights=uniform; total time=   3.6s\n",
      "[CV] END ...............algorithm=auto, p=3, weights=uniform; total time=   3.7s\n",
      "[CV] END ..............algorithm=auto, p=3, weights=distance; total time=   3.9s\n",
      "[CV] END ..............algorithm=auto, p=3, weights=distance; total time=   3.9s\n",
      "[CV] END ..............algorithm=auto, p=3, weights=distance; total time=   3.9s\n",
      "[CV] END ..............algorithm=auto, p=3, weights=distance; total time=   3.9s\n",
      "[CV] END ..............algorithm=auto, p=3, weights=distance; total time=   4.0s\n",
      "[CV] END ...............algorithm=auto, p=4, weights=uniform; total time=   4.0s\n",
      "[CV] END ...............algorithm=auto, p=4, weights=uniform; total time=   4.0s\n",
      "[CV] END ...............algorithm=auto, p=4, weights=uniform; total time=   4.4s\n",
      "[CV] END ...............algorithm=auto, p=4, weights=uniform; total time=   4.8s\n",
      "[CV] END ...............algorithm=auto, p=4, weights=uniform; total time=   4.9s\n",
      "[CV] END ..............algorithm=auto, p=4, weights=distance; total time=   4.6s\n",
      "[CV] END ..............algorithm=auto, p=4, weights=distance; total time=   4.3s\n",
      "[CV] END ..............algorithm=auto, p=4, weights=distance; total time=   4.4s\n",
      "[CV] END ..............algorithm=auto, p=4, weights=distance; total time=   4.4s\n",
      "[CV] END ..............algorithm=auto, p=4, weights=distance; total time=   4.4s\n",
      "[CV] END ..........algorithm=ball_tree, p=1, weights=uniform; total time=   0.6s\n",
      "[CV] END ..........algorithm=ball_tree, p=1, weights=uniform; total time=   0.5s\n",
      "[CV] END ..........algorithm=ball_tree, p=1, weights=uniform; total time=   0.5s\n",
      "[CV] END ..........algorithm=ball_tree, p=1, weights=uniform; total time=   0.5s\n",
      "[CV] END ..........algorithm=ball_tree, p=1, weights=uniform; total time=   0.6s\n",
      "[CV] END .........algorithm=ball_tree, p=1, weights=distance; total time=   0.5s\n",
      "[CV] END .........algorithm=ball_tree, p=1, weights=distance; total time=   0.6s\n",
      "[CV] END .........algorithm=ball_tree, p=1, weights=distance; total time=   0.5s\n",
      "[CV] END .........algorithm=ball_tree, p=1, weights=distance; total time=   0.5s\n",
      "[CV] END .........algorithm=ball_tree, p=1, weights=distance; total time=   0.6s\n",
      "[CV] END ..........algorithm=ball_tree, p=2, weights=uniform; total time=   0.3s\n",
      "[CV] END ..........algorithm=ball_tree, p=2, weights=uniform; total time=   0.2s\n",
      "[CV] END ..........algorithm=ball_tree, p=2, weights=uniform; total time=   0.2s\n",
      "[CV] END ..........algorithm=ball_tree, p=2, weights=uniform; total time=   0.2s\n",
      "[CV] END ..........algorithm=ball_tree, p=2, weights=uniform; total time=   0.2s\n",
      "[CV] END .........algorithm=ball_tree, p=2, weights=distance; total time=   0.2s\n",
      "[CV] END .........algorithm=ball_tree, p=2, weights=distance; total time=   0.2s\n",
      "[CV] END .........algorithm=ball_tree, p=2, weights=distance; total time=   0.2s\n",
      "[CV] END .........algorithm=ball_tree, p=2, weights=distance; total time=   0.2s\n",
      "[CV] END .........algorithm=ball_tree, p=2, weights=distance; total time=   0.2s\n",
      "[CV] END ..........algorithm=ball_tree, p=3, weights=uniform; total time=   2.5s\n",
      "[CV] END ..........algorithm=ball_tree, p=3, weights=uniform; total time=   2.4s\n",
      "[CV] END ..........algorithm=ball_tree, p=3, weights=uniform; total time=   2.3s\n",
      "[CV] END ..........algorithm=ball_tree, p=3, weights=uniform; total time=   2.3s\n",
      "[CV] END ..........algorithm=ball_tree, p=3, weights=uniform; total time=   2.3s\n",
      "[CV] END .........algorithm=ball_tree, p=3, weights=distance; total time=   2.3s\n",
      "[CV] END .........algorithm=ball_tree, p=3, weights=distance; total time=   2.4s\n",
      "[CV] END .........algorithm=ball_tree, p=3, weights=distance; total time=   2.3s\n",
      "[CV] END .........algorithm=ball_tree, p=3, weights=distance; total time=   2.3s\n",
      "[CV] END .........algorithm=ball_tree, p=3, weights=distance; total time=   2.3s\n",
      "[CV] END ..........algorithm=ball_tree, p=4, weights=uniform; total time=   2.2s\n",
      "[CV] END ..........algorithm=ball_tree, p=4, weights=uniform; total time=   2.3s\n",
      "[CV] END ..........algorithm=ball_tree, p=4, weights=uniform; total time=   2.1s\n",
      "[CV] END ..........algorithm=ball_tree, p=4, weights=uniform; total time=   2.3s\n",
      "[CV] END ..........algorithm=ball_tree, p=4, weights=uniform; total time=   2.2s\n",
      "[CV] END .........algorithm=ball_tree, p=4, weights=distance; total time=   2.2s\n",
      "[CV] END .........algorithm=ball_tree, p=4, weights=distance; total time=   2.3s\n",
      "[CV] END .........algorithm=ball_tree, p=4, weights=distance; total time=   2.1s\n",
      "[CV] END .........algorithm=ball_tree, p=4, weights=distance; total time=   2.2s\n",
      "[CV] END .........algorithm=ball_tree, p=4, weights=distance; total time=   2.2s\n",
      "[CV] END ............algorithm=kd_tree, p=1, weights=uniform; total time=   0.3s\n",
      "[CV] END ............algorithm=kd_tree, p=1, weights=uniform; total time=   0.3s\n",
      "[CV] END ............algorithm=kd_tree, p=1, weights=uniform; total time=   0.3s\n",
      "[CV] END ............algorithm=kd_tree, p=1, weights=uniform; total time=   0.3s\n",
      "[CV] END ............algorithm=kd_tree, p=1, weights=uniform; total time=   0.3s\n",
      "[CV] END ...........algorithm=kd_tree, p=1, weights=distance; total time=   0.3s\n",
      "[CV] END ...........algorithm=kd_tree, p=1, weights=distance; total time=   0.3s\n",
      "[CV] END ...........algorithm=kd_tree, p=1, weights=distance; total time=   0.3s\n",
      "[CV] END ...........algorithm=kd_tree, p=1, weights=distance; total time=   0.3s\n",
      "[CV] END ...........algorithm=kd_tree, p=1, weights=distance; total time=   0.3s\n",
      "[CV] END ............algorithm=kd_tree, p=2, weights=uniform; total time=   0.1s\n",
      "[CV] END ............algorithm=kd_tree, p=2, weights=uniform; total time=   0.1s\n",
      "[CV] END ............algorithm=kd_tree, p=2, weights=uniform; total time=   0.1s\n",
      "[CV] END ............algorithm=kd_tree, p=2, weights=uniform; total time=   0.1s\n",
      "[CV] END ............algorithm=kd_tree, p=2, weights=uniform; total time=   0.1s\n",
      "[CV] END ...........algorithm=kd_tree, p=2, weights=distance; total time=   0.1s\n",
      "[CV] END ...........algorithm=kd_tree, p=2, weights=distance; total time=   0.1s\n",
      "[CV] END ...........algorithm=kd_tree, p=2, weights=distance; total time=   0.1s\n",
      "[CV] END ...........algorithm=kd_tree, p=2, weights=distance; total time=   0.1s\n",
      "[CV] END ...........algorithm=kd_tree, p=2, weights=distance; total time=   0.1s\n",
      "[CV] END ............algorithm=kd_tree, p=3, weights=uniform; total time=   0.5s\n",
      "[CV] END ............algorithm=kd_tree, p=3, weights=uniform; total time=   0.5s\n",
      "[CV] END ............algorithm=kd_tree, p=3, weights=uniform; total time=   0.5s\n",
      "[CV] END ............algorithm=kd_tree, p=3, weights=uniform; total time=   0.6s\n",
      "[CV] END ............algorithm=kd_tree, p=3, weights=uniform; total time=   0.5s\n",
      "[CV] END ...........algorithm=kd_tree, p=3, weights=distance; total time=   0.5s\n",
      "[CV] END ...........algorithm=kd_tree, p=3, weights=distance; total time=   0.5s\n",
      "[CV] END ...........algorithm=kd_tree, p=3, weights=distance; total time=   0.5s\n",
      "[CV] END ...........algorithm=kd_tree, p=3, weights=distance; total time=   0.5s\n",
      "[CV] END ...........algorithm=kd_tree, p=3, weights=distance; total time=   0.5s\n",
      "[CV] END ............algorithm=kd_tree, p=4, weights=uniform; total time=   0.5s\n",
      "[CV] END ............algorithm=kd_tree, p=4, weights=uniform; total time=   0.5s\n",
      "[CV] END ............algorithm=kd_tree, p=4, weights=uniform; total time=   0.5s\n",
      "[CV] END ............algorithm=kd_tree, p=4, weights=uniform; total time=   0.5s\n",
      "[CV] END ............algorithm=kd_tree, p=4, weights=uniform; total time=   0.5s\n",
      "[CV] END ...........algorithm=kd_tree, p=4, weights=distance; total time=   0.4s\n",
      "[CV] END ...........algorithm=kd_tree, p=4, weights=distance; total time=   0.4s\n",
      "[CV] END ...........algorithm=kd_tree, p=4, weights=distance; total time=   0.4s\n",
      "[CV] END ...........algorithm=kd_tree, p=4, weights=distance; total time=   0.4s\n",
      "[CV] END ...........algorithm=kd_tree, p=4, weights=distance; total time=   0.4s\n",
      "[CV] END ..............algorithm=brute, p=1, weights=uniform; total time=   0.2s\n",
      "[CV] END ..............algorithm=brute, p=1, weights=uniform; total time=   0.2s\n",
      "[CV] END ..............algorithm=brute, p=1, weights=uniform; total time=   0.2s\n",
      "[CV] END ..............algorithm=brute, p=1, weights=uniform; total time=   0.2s\n",
      "[CV] END ..............algorithm=brute, p=1, weights=uniform; total time=   0.2s\n",
      "[CV] END .............algorithm=brute, p=1, weights=distance; total time=   0.2s\n",
      "[CV] END .............algorithm=brute, p=1, weights=distance; total time=   0.2s\n",
      "[CV] END .............algorithm=brute, p=1, weights=distance; total time=   0.3s\n",
      "[CV] END .............algorithm=brute, p=1, weights=distance; total time=   0.2s\n",
      "[CV] END .............algorithm=brute, p=1, weights=distance; total time=   0.2s\n",
      "[CV] END ..............algorithm=brute, p=2, weights=uniform; total time=   0.1s\n",
      "[CV] END ..............algorithm=brute, p=2, weights=uniform; total time=   0.1s\n",
      "[CV] END ..............algorithm=brute, p=2, weights=uniform; total time=   0.1s\n",
      "[CV] END ..............algorithm=brute, p=2, weights=uniform; total time=   0.1s\n",
      "[CV] END ..............algorithm=brute, p=2, weights=uniform; total time=   0.1s\n",
      "[CV] END .............algorithm=brute, p=2, weights=distance; total time=   0.1s\n",
      "[CV] END .............algorithm=brute, p=2, weights=distance; total time=   0.1s\n",
      "[CV] END .............algorithm=brute, p=2, weights=distance; total time=   0.1s\n",
      "[CV] END .............algorithm=brute, p=2, weights=distance; total time=   0.1s\n",
      "[CV] END .............algorithm=brute, p=2, weights=distance; total time=   0.1s\n",
      "[CV] END ..............algorithm=brute, p=3, weights=uniform; total time=   4.0s\n",
      "[CV] END ..............algorithm=brute, p=3, weights=uniform; total time=   4.0s\n",
      "[CV] END ..............algorithm=brute, p=3, weights=uniform; total time=   4.1s\n",
      "[CV] END ..............algorithm=brute, p=3, weights=uniform; total time=   4.1s\n",
      "[CV] END ..............algorithm=brute, p=3, weights=uniform; total time=   4.2s\n",
      "[CV] END .............algorithm=brute, p=3, weights=distance; total time=   4.4s\n",
      "[CV] END .............algorithm=brute, p=3, weights=distance; total time=   4.3s\n",
      "[CV] END .............algorithm=brute, p=3, weights=distance; total time=   4.2s\n",
      "[CV] END .............algorithm=brute, p=3, weights=distance; total time=   4.3s\n",
      "[CV] END .............algorithm=brute, p=3, weights=distance; total time=   4.5s\n",
      "[CV] END ..............algorithm=brute, p=4, weights=uniform; total time=   4.4s\n",
      "[CV] END ..............algorithm=brute, p=4, weights=uniform; total time=   4.5s\n",
      "[CV] END ..............algorithm=brute, p=4, weights=uniform; total time=   4.4s\n",
      "[CV] END ..............algorithm=brute, p=4, weights=uniform; total time=   4.4s\n",
      "[CV] END ..............algorithm=brute, p=4, weights=uniform; total time=   4.5s\n",
      "[CV] END .............algorithm=brute, p=4, weights=distance; total time=   5.1s\n",
      "[CV] END .............algorithm=brute, p=4, weights=distance; total time=   4.6s\n",
      "[CV] END .............algorithm=brute, p=4, weights=distance; total time=   4.6s\n",
      "[CV] END .............algorithm=brute, p=4, weights=distance; total time=   4.8s\n",
      "[CV] END .............algorithm=brute, p=4, weights=distance; total time=   4.7s\n",
      "Accuracy: 0.5118626956082787\n",
      "Best parameters: {'algorithm': 'auto', 'p': 4, 'weights': 'uniform'}\n"
     ]
    }
   ],
   "source": [
    "# GridSearch\n",
    "param_grid = {\n",
    "    'weights': ['uniform', 'distance'],\n",
    "    'algorithm': ['auto', 'ball_tree', 'kd_tree', 'brute'],\n",
    "    'p': [1, 2, 3, 4]\n",
    "}\n",
    "\n",
    "X, y = spread_df_cls()\n",
    "X_train, X_test, y_train, y_test = train_test_split(X, y, train_size=0.8, test_size=0.2)\n",
    "\n",
    "knn = KNeighborsClassifier(n_neighbors=10)\n",
    "grid_search = GridSearchCV(estimator=knn, param_grid=param_grid, verbose=2)\n",
    "grid_search.fit(X_train, np.ravel(y_train))\n",
    "\n",
    "best_model = grid_search.best_estimator_\n",
    "acc_train = best_model.score(X_train, y_train)\n",
    "acc_test = best_model.score(X_test, y_test)\n",
    "\n",
    "print(f\"Accuracy: {acc_test}\")\n",
    "print(\"Best parameters:\", grid_search.best_params_)"
   ]
  }
 ],
 "metadata": {
  "kernelspec": {
   "display_name": "Python 3",
   "language": "python",
   "name": "python3"
  },
  "language_info": {
   "codemirror_mode": {
    "name": "ipython",
    "version": 3
   },
   "file_extension": ".py",
   "mimetype": "text/x-python",
   "name": "python",
   "nbconvert_exporter": "python",
   "pygments_lexer": "ipython3",
   "version": "3.11.7"
  }
 },
 "nbformat": 4,
 "nbformat_minor": 2
}
