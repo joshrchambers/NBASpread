{
 "cells": [
  {
   "cell_type": "code",
   "execution_count": 30,
   "id": "initial_id",
   "metadata": {
    "collapsed": true,
    "ExecuteTime": {
     "end_time": "2024-04-11T17:56:27.172605700Z",
     "start_time": "2024-04-11T17:56:27.120718Z"
    }
   },
   "outputs": [],
   "source": [
    "import pandas as pd\n",
    "import numpy as np\n",
    "from statistics import mean\n",
    "from sklearn.neural_network import MLPClassifier\n",
    "from sklearn.model_selection import train_test_split\n",
    "import matplotlib.pyplot as plt\n",
    "import tabulate\n",
    "\n",
    "# REGRESSION\n",
    "# Return X = testable features, Y = point spread\n",
    "def spread_df_rgn(normalize=False, get_custom_date_range=False, substituted_spreads=None):\n",
    "  data_df = pd.read_csv('combined_out.csv')\n",
    "\n",
    "  real_cols = data_df.select_dtypes(include=['number']).columns\n",
    "\n",
    "  if not get_custom_date_range:\n",
    "    data_df = data_df.dropna(axis=0)\n",
    "\n",
    "  if normalize:\n",
    "    for col in real_cols:\n",
    "      min_val = data_df[col].min()\n",
    "      max_val = data_df[col].max()\n",
    "      data_df[col] = (data_df[col] - min_val) / (max_val - min_val)\n",
    "\n",
    "  if get_custom_date_range:\n",
    "    data_df = data_df[(data_df['Date'] >= '2024-04-01') & (data_df['Date'] <= '2024-04-07')]\n",
    "    data_df['HomeSpread'] = substituted_spreads\n",
    "    data_df['HomeSpreadCorrectDirection'] = data_df['HomeSpreadActual'] > data_df['HomeSpread']\n",
    "    data_df['HomeSpreadCorrectDirection'] = data_df['HomeSpreadCorrectDirection'].astype(int)\n",
    "  \n",
    "  data_df = data_df.drop('AwayTeam', axis=1)\\\n",
    "                   .drop('HomeTeam', axis=1)\\\n",
    "                   .drop('Date', axis=1)\n",
    "  \n",
    "  data_np = data_df.to_numpy()\n",
    "  data_np = data_np[:, 5:]\n",
    "\n",
    "  data_np = data_np.astype(float)\n",
    "\n",
    "  return data_np[:, 1:-1], data_np[:, :1]\n",
    "\n",
    "# CLASSIFICATION\n",
    "# Return X = testable features, Y = correct point spread direction\n",
    "def spread_df_cls(normalize=False, get_custom_date_range=False, substituted_spreads=None):\n",
    "  data_df = pd.read_csv('combined_out.csv')\n",
    "\n",
    "  real_cols = data_df.select_dtypes(include=['number']).columns\n",
    "\n",
    "  if not get_custom_date_range:\n",
    "    data_df = data_df.dropna(axis=0)\n",
    "\n",
    "  if normalize:\n",
    "    for col in real_cols:\n",
    "      min_val = data_df[col].min()\n",
    "      max_val = data_df[col].max()\n",
    "      data_df[col] = (data_df[col] - min_val) / (max_val - min_val)\n",
    "\n",
    "  if get_custom_date_range:\n",
    "    data_df = data_df[(data_df['Date'] >= '2024-04-01') & (data_df['Date'] <= '2024-04-07')]\n",
    "    data_df['HomeSpread'] = substituted_spreads\n",
    "    data_df['HomeSpreadCorrectDirection'] = data_df['HomeSpreadActual'] > data_df['HomeSpread']\n",
    "    data_df['HomeSpreadCorrectDirection'] = data_df['HomeSpreadCorrectDirection'].astype(int)\n",
    "\n",
    "  data_df = data_df.drop('AwayTeam', axis=1)\\\n",
    "                   .drop('HomeTeam', axis=1)\\\n",
    "                   .drop('Date', axis=1)\n",
    "  \n",
    "  data_np = data_df.to_numpy()\n",
    "  data_np = data_np[:, 5:]\n",
    "\n",
    "  data_np = data_np.astype(float)\n",
    "\n",
    "  return data_np[:, 1:-1], data_np[:, -1:]"
   ]
  },
  {
   "cell_type": "markdown",
   "source": [
    "MLP Classifier"
   ],
   "metadata": {
    "collapsed": false
   },
   "id": "318f107778483422"
  },
  {
   "cell_type": "markdown",
   "source": [
    "Does Early Stopping improve accuracy?"
   ],
   "metadata": {
    "collapsed": false
   },
   "id": "a2ecdc666535c23d"
  },
  {
   "cell_type": "code",
   "execution_count": 37,
   "outputs": [
    {
     "name": "stderr",
     "output_type": "stream",
     "text": [
      "C:\\Users\\hamil\\anaconda3\\Lib\\site-packages\\sklearn\\neural_network\\_multilayer_perceptron.py:1102: DataConversionWarning: A column-vector y was passed when a 1d array was expected. Please change the shape of y to (n_samples, ), for example using ravel().\n",
      "  y = column_or_1d(y, warn=True)\n",
      "C:\\Users\\hamil\\anaconda3\\Lib\\site-packages\\sklearn\\neural_network\\_multilayer_perceptron.py:1102: DataConversionWarning: A column-vector y was passed when a 1d array was expected. Please change the shape of y to (n_samples, ), for example using ravel().\n",
      "  y = column_or_1d(y, warn=True)\n",
      "C:\\Users\\hamil\\anaconda3\\Lib\\site-packages\\sklearn\\neural_network\\_multilayer_perceptron.py:1102: DataConversionWarning: A column-vector y was passed when a 1d array was expected. Please change the shape of y to (n_samples, ), for example using ravel().\n",
      "  y = column_or_1d(y, warn=True)\n",
      "C:\\Users\\hamil\\anaconda3\\Lib\\site-packages\\sklearn\\neural_network\\_multilayer_perceptron.py:1102: DataConversionWarning: A column-vector y was passed when a 1d array was expected. Please change the shape of y to (n_samples, ), for example using ravel().\n",
      "  y = column_or_1d(y, warn=True)\n",
      "C:\\Users\\hamil\\anaconda3\\Lib\\site-packages\\sklearn\\neural_network\\_multilayer_perceptron.py:1102: DataConversionWarning: A column-vector y was passed when a 1d array was expected. Please change the shape of y to (n_samples, ), for example using ravel().\n",
      "  y = column_or_1d(y, warn=True)\n"
     ]
    },
    {
     "name": "stdout",
     "output_type": "stream",
     "text": [
      "Average results without Early Stopping\n",
      "Converged after 35.2 iterations\n",
      "Train Accuracy: 0.5134237929946356\n",
      "Test Accuracy: 0.5115598182735992\n",
      "+--------------+------------------+-----------------+\n",
      "|   Iterations |   Train Accuracy |   Test Accuracy |\n",
      "+==============+==================+=================+\n",
      "|           30 |         0.502745 |        0.502776 |\n",
      "+--------------+------------------+-----------------+\n",
      "|           35 |         0.511013 |        0.505553 |\n",
      "+--------------+------------------+-----------------+\n",
      "|           27 |         0.502745 |        0.503029 |\n",
      "+--------------+------------------+-----------------+\n",
      "|           54 |         0.547176 |        0.545432 |\n",
      "+--------------+------------------+-----------------+\n",
      "|           30 |         0.50344  |        0.50101  |\n",
      "+--------------+------------------+-----------------+\n"
     ]
    },
    {
     "name": "stderr",
     "output_type": "stream",
     "text": [
      "C:\\Users\\hamil\\anaconda3\\Lib\\site-packages\\sklearn\\neural_network\\_multilayer_perceptron.py:1102: DataConversionWarning: A column-vector y was passed when a 1d array was expected. Please change the shape of y to (n_samples, ), for example using ravel().\n",
      "  y = column_or_1d(y, warn=True)\n",
      "C:\\Users\\hamil\\anaconda3\\Lib\\site-packages\\sklearn\\neural_network\\_multilayer_perceptron.py:1102: DataConversionWarning: A column-vector y was passed when a 1d array was expected. Please change the shape of y to (n_samples, ), for example using ravel().\n",
      "  y = column_or_1d(y, warn=True)\n",
      "C:\\Users\\hamil\\anaconda3\\Lib\\site-packages\\sklearn\\neural_network\\_multilayer_perceptron.py:1102: DataConversionWarning: A column-vector y was passed when a 1d array was expected. Please change the shape of y to (n_samples, ), for example using ravel().\n",
      "  y = column_or_1d(y, warn=True)\n",
      "C:\\Users\\hamil\\anaconda3\\Lib\\site-packages\\sklearn\\neural_network\\_multilayer_perceptron.py:1102: DataConversionWarning: A column-vector y was passed when a 1d array was expected. Please change the shape of y to (n_samples, ), for example using ravel().\n",
      "  y = column_or_1d(y, warn=True)\n",
      "C:\\Users\\hamil\\anaconda3\\Lib\\site-packages\\sklearn\\neural_network\\_multilayer_perceptron.py:1102: DataConversionWarning: A column-vector y was passed when a 1d array was expected. Please change the shape of y to (n_samples, ), for example using ravel().\n",
      "  y = column_or_1d(y, warn=True)\n"
     ]
    },
    {
     "name": "stdout",
     "output_type": "stream",
     "text": [
      "Results with Early Stopping\n",
      "Converged after 23 iterations\n",
      "Train Accuracy: 0.5234963710949826\n",
      "Test Accuracy: 0.5200403836446239\n",
      "+--------------+------------------+-----------------+\n",
      "|   Iterations |   Train Accuracy |   Test Accuracy |\n",
      "+==============+==================+=================+\n",
      "|           46 |         0.53083  |        0.525745 |\n",
      "+--------------+------------------+-----------------+\n",
      "|           20 |         0.539602 |        0.528269 |\n",
      "+--------------+------------------+-----------------+\n",
      "|           22 |         0.523888 |        0.514891 |\n",
      "+--------------+------------------+-----------------+\n",
      "|           13 |         0.515241 |        0.510601 |\n",
      "+--------------+------------------+-----------------+\n",
      "|           14 |         0.50792  |        0.520697 |\n",
      "+--------------+------------------+-----------------+\n"
     ]
    }
   ],
   "source": [
    "x, y = spread_df_cls()\n",
    "x_train, x_test, y_train, y_test = train_test_split(x, y, train_size=0.8, test_size=0.2)\n",
    "\n",
    "converged_early = []\n",
    "converged = []\n",
    "train_accuracy_early = []\n",
    "train_accuracy = []\n",
    "test_accuracy_early = []\n",
    "test_accuracy = []\n",
    "\n",
    "for i in range(5):\n",
    "  clf = MLPClassifier()\n",
    "  clf.fit(x_train, y_train)\n",
    "  \n",
    "  converged.append(clf.n_iter_)\n",
    "  train_accuracy.append(clf.score(x_train, y_train))\n",
    "  test_accuracy.append(clf.score(x_test, y_test))\n",
    "  \n",
    "print(\"Average results without Early Stopping\")\n",
    "print(\"Converged after\", mean(converged), \"iterations\")\n",
    "print(\"Train Accuracy:\", mean(train_accuracy))\n",
    "print(\"Test Accuracy:\", mean(test_accuracy))\n",
    "      \n",
    "headers = [\"Iterations\", \"Train Accuracy\", \"Test Accuracy\"]\n",
    "table = [(converged[i], train_accuracy[i], test_accuracy[i]) for i in range(len(converged))]\n",
    "\n",
    "print(tabulate.tabulate(table, headers, tablefmt=\"grid\"))\n",
    "  \n",
    "for i in range(5):\n",
    "  clf = MLPClassifier(early_stopping=True)\n",
    "  clf.fit(x_train, y_train)\n",
    "  \n",
    "  converged_early.append(clf.n_iter_)\n",
    "  train_accuracy_early.append(clf.score(x_train, y_train))\n",
    "  test_accuracy_early.append(clf.score(x_test, y_test))\n",
    "  \n",
    "print(\"Results with Early Stopping\")\n",
    "print(\"Converged after\", mean(converged_early), \"iterations\")\n",
    "print(\"Train Accuracy:\", mean(train_accuracy_early))\n",
    "print(\"Test Accuracy:\", mean(test_accuracy_early))\n",
    "\n",
    "headers = [\"Iterations\", \"Train Accuracy\", \"Test Accuracy\"]\n",
    "table = [(converged_early[i], train_accuracy_early[i], test_accuracy_early[i]) for i in range(len(converged_early))]\n",
    "\n",
    "print(tabulate.tabulate(table, headers, tablefmt=\"grid\"))"
   ],
   "metadata": {
    "collapsed": false,
    "ExecuteTime": {
     "end_time": "2024-04-11T18:20:54.026262900Z",
     "start_time": "2024-04-11T18:20:20.136056Z"
    }
   },
   "id": "5ae4db5fb5c136d5"
  },
  {
   "cell_type": "markdown",
   "source": [
    "Which alpha value creates the highest accuracy?"
   ],
   "metadata": {
    "collapsed": false
   },
   "id": "aa060b92dfb36bbb"
  },
  {
   "cell_type": "code",
   "execution_count": 43,
   "outputs": [
    {
     "name": "stderr",
     "output_type": "stream",
     "text": [
      "C:\\Users\\hamil\\anaconda3\\Lib\\site-packages\\sklearn\\neural_network\\_multilayer_perceptron.py:1102: DataConversionWarning: A column-vector y was passed when a 1d array was expected. Please change the shape of y to (n_samples, ), for example using ravel().\n",
      "  y = column_or_1d(y, warn=True)\n",
      "C:\\Users\\hamil\\anaconda3\\Lib\\site-packages\\sklearn\\neural_network\\_multilayer_perceptron.py:1102: DataConversionWarning: A column-vector y was passed when a 1d array was expected. Please change the shape of y to (n_samples, ), for example using ravel().\n",
      "  y = column_or_1d(y, warn=True)\n",
      "C:\\Users\\hamil\\anaconda3\\Lib\\site-packages\\sklearn\\neural_network\\_multilayer_perceptron.py:1102: DataConversionWarning: A column-vector y was passed when a 1d array was expected. Please change the shape of y to (n_samples, ), for example using ravel().\n",
      "  y = column_or_1d(y, warn=True)\n",
      "C:\\Users\\hamil\\anaconda3\\Lib\\site-packages\\sklearn\\neural_network\\_multilayer_perceptron.py:1102: DataConversionWarning: A column-vector y was passed when a 1d array was expected. Please change the shape of y to (n_samples, ), for example using ravel().\n",
      "  y = column_or_1d(y, warn=True)\n",
      "C:\\Users\\hamil\\anaconda3\\Lib\\site-packages\\sklearn\\neural_network\\_multilayer_perceptron.py:1102: DataConversionWarning: A column-vector y was passed when a 1d array was expected. Please change the shape of y to (n_samples, ), for example using ravel().\n",
      "  y = column_or_1d(y, warn=True)\n"
     ]
    },
    {
     "name": "stdout",
     "output_type": "stream",
     "text": [
      "+-------------------------------------------------+-------------------------------------------------+---------------------------------------------------+----------------------------------------------------+---------------------------------------------------+\n",
      "| (0.1, 0.5166929630798359, 0.5070671378091873)   | (0.01, 0.509561375828337, 0.5037859666834932)   | (0.001, 0.5086778163458504, 0.5025239777889955)   | (0.0001, 0.5285579047017986, 0.5181726400807672)   | (1e-05, 0.5136005048911328, 0.5133770822816759)   |\n",
      "+=================================================+=================================================+===================================================+====================================================+===================================================+\n",
      "| A                                               | l                                               | p                                                 | h                                                  | a                                                 |\n",
      "+-------------------------------------------------+-------------------------------------------------+---------------------------------------------------+----------------------------------------------------+---------------------------------------------------+\n",
      "| T                                               | r                                               | a                                                 | i                                                  | n                                                 |\n",
      "+-------------------------------------------------+-------------------------------------------------+---------------------------------------------------+----------------------------------------------------+---------------------------------------------------+\n",
      "| T                                               | e                                               | s                                                 | t                                                  |                                                   |\n",
      "+-------------------------------------------------+-------------------------------------------------+---------------------------------------------------+----------------------------------------------------+---------------------------------------------------+\n"
     ]
    },
    {
     "data": {
      "text/plain": "[Text(0, 0, '0.1'),\n Text(1, 0, '0.01'),\n Text(2, 0, '0.001'),\n Text(3, 0, '0.0001'),\n Text(4, 0, '1e-05')]"
     },
     "execution_count": 43,
     "metadata": {},
     "output_type": "execute_result"
    },
    {
     "data": {
      "text/plain": "<Figure size 700x700 with 0 Axes>"
     },
     "metadata": {},
     "output_type": "display_data"
    }
   ],
   "source": [
    "converged = []\n",
    "train_accuracy = []\n",
    "test_accuracy = []\n",
    "\n",
    "alphas = [0.1, 0.01, 0.001, 0.0001, 0.00001]\n",
    "\n",
    "for i in alphas:\n",
    "  clf = MLPClassifier(alpha=i, early_stopping=True)\n",
    "  clf.fit(x_train, y_train)\n",
    "  \n",
    "  train_accuracy.append(clf.score(x_train, y_train))\n",
    "  test_accuracy.append(clf.score(x_test, y_test))\n",
    "  \n",
    "headers_alpha = [\"Alpha\", \"Train Accuracy\", \"Test Accuracy\"]\n",
    "table_alpha = [(alphas[i], train_accuracy[i], test_accuracy[i]) for i in range(len(alphas))]\n",
    "\n",
    "print(tabulate.tabulate(headers_alpha, table_alpha, tablefmt=\"grid\"))\n",
    "\n",
    "a = np.arange(len(alphas))\n",
    "\n",
    "fig = plt.figure(1, figsize=(7,7))\n",
    "ax = fig.add_subplot(212)\n",
    "\n",
    "ax.plot(a, test_accuracy)\n",
    "ax.xaxis.set_ticks(a)\n",
    "ax.xaxis.set_ticklabels(alphas)"
   ],
   "metadata": {
    "collapsed": false,
    "ExecuteTime": {
     "end_time": "2024-04-11T18:31:43.888426200Z",
     "start_time": "2024-04-11T18:31:32.281379300Z"
    }
   },
   "id": "be47a37453989e10"
  },
  {
   "cell_type": "code",
   "execution_count": null,
   "outputs": [],
   "source": [],
   "metadata": {
    "collapsed": false
   },
   "id": "49d005dd8dc2f9d0"
  }
 ],
 "metadata": {
  "kernelspec": {
   "display_name": "Python 3",
   "language": "python",
   "name": "python3"
  },
  "language_info": {
   "codemirror_mode": {
    "name": "ipython",
    "version": 2
   },
   "file_extension": ".py",
   "mimetype": "text/x-python",
   "name": "python",
   "nbconvert_exporter": "python",
   "pygments_lexer": "ipython2",
   "version": "2.7.6"
  }
 },
 "nbformat": 4,
 "nbformat_minor": 5
}
